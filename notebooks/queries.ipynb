{
 "cells": [
  {
   "cell_type": "markdown",
   "id": "1bb85829",
   "metadata": {},
   "source": [
    "## CONSULTAS NO DATASET"
   ]
  },
  {
   "cell_type": "code",
   "execution_count": 1,
   "id": "c07d67aa",
   "metadata": {},
   "outputs": [],
   "source": [
    "%defaultDatasource jdbc:h2:mem:db"
   ]
  },
  {
   "cell_type": "code",
   "execution_count": 2,
   "id": "e9e99f24",
   "metadata": {},
   "outputs": [],
   "source": [
    "DROP TABLE IF EXISTS Jogador;\n",
    "\n",
    "CREATE TABLE Jogador (\n",
    "  nome VARCHAR(50) NOT NULL,\n",
    "  data_de_nascimento INTEGER NOT NULL,\n",
    "  altura INT,\n",
    "  mao_dominante VARCHAR(1),\n",
    "  local VARCHAR(3),\n",
    "  PRIMARY KEY(nome, data_de_nascimento)\n",
    ") AS SELECT\n",
    "  name,date_of_birth,height,hand,country\n",
    "FROM CSVREAD('../data/processed/men_players.csv');"
   ]
  },
  {
   "cell_type": "code",
   "execution_count": 3,
   "id": "c77e4ac5",
   "metadata": {},
   "outputs": [
    {
     "data": {
      "application/vnd.jupyter.widget-view+json": {
       "model_id": "39c47b95-dca2-4141-840a-7db161fb5afb",
       "version_major": 2,
       "version_minor": 0
      },
      "method": "display_data"
     },
     "metadata": {},
     "output_type": "display_data"
    }
   ],
   "source": [
    "SELECT * FROM Jogador"
   ]
  },
  {
   "cell_type": "code",
   "execution_count": 4,
   "id": "5af9fd46",
   "metadata": {},
   "outputs": [],
   "source": [
    "DROP TABLE IF EXISTS Torneio;\n",
    "\n",
    "CREATE TABLE Torneio (\n",
    "  location VARCHAR(100),\n",
    "  surface VARCHAR(50),\n",
    "  year INTEGER,\n",
    "  tournament VARCHAR(100),\n",
    "  country VARCHAR(5),\n",
    "    \n",
    "  PRIMARY KEY(tournament, year),\n",
    ") AS SELECT\n",
    "  Location,Surface,Year,Tournament, Country\n",
    "FROM CSVREAD('../data/processed/tournaments.csv');"
   ]
  },
  {
   "cell_type": "code",
   "execution_count": 5,
   "id": "3e13b38a",
   "metadata": {},
   "outputs": [
    {
     "data": {
      "application/vnd.jupyter.widget-view+json": {
       "model_id": "5f801ffd-9e9b-42ac-b077-fc896a3e7bee",
       "version_major": 2,
       "version_minor": 0
      },
      "method": "display_data"
     },
     "metadata": {},
     "output_type": "display_data"
    }
   ],
   "source": [
    "SELECT * FROM Torneio"
   ]
  },
  {
   "cell_type": "code",
   "execution_count": 6,
   "id": "cf2f11d9",
   "metadata": {},
   "outputs": [],
   "source": [
    "DROP TABLE IF EXISTS Confronto;\n",
    "\n",
    "CREATE TABLE Confronto (\n",
    "  winner VARCHAR(100) NOT NULL,\n",
    "  loser VARCHAR(100) NOT NULL,\n",
    "  round VARCHAR(100) NOT NULL,\n",
    "  tournament VARCHAR(200),\n",
    "  data VARCHAR(50),\n",
    "  oddwinner FLOAT,\n",
    "  oddloser FLOAT,\n",
    "  setwinner FLOAT,\n",
    "  setloser FLOAT,\n",
    "  year INTEGER,\n",
    "  PRIMARY KEY(winner,loser,data),\n",
    "  FOREIGN KEY(winner) REFERENCES Jogador(nome),\n",
    "  FOREIGN KEY(loser) REFERENCES Jogador(nome),\n",
    "  FOREIGN KEY(tournament, year) REFERENCES Torneio(tournament, year)\n",
    ") AS SELECT\n",
    "  Winner, Loser, Round, Tournament, Data, AvgW, AvgL,Wsets, Lsets, Year\n",
    "FROM CSVREAD('../data/processed/confrontations_since_2010.csv');"
   ]
  },
  {
   "cell_type": "code",
   "execution_count": 7,
   "id": "3496d046",
   "metadata": {},
   "outputs": [
    {
     "data": {
      "application/vnd.jupyter.widget-view+json": {
       "model_id": "846a69e7-1deb-4cdc-bec3-5df6b5086d88",
       "version_major": 2,
       "version_minor": 0
      },
      "method": "display_data"
     },
     "metadata": {},
     "output_type": "display_data"
    }
   ],
   "source": [
    "SELECT * FROM Confronto"
   ]
  },
  {
   "cell_type": "code",
   "execution_count": 8,
   "id": "3dd971cc",
   "metadata": {},
   "outputs": [],
   "source": [
    "DROP TABLE IF EXISTS Historico;\n",
    "\n",
    "CREATE TABLE Historico (\n",
    "  name VARCHAR(100) NOT NULL,\n",
    "  followers_2019 INTEGER,\n",
    "  followers_2021 INTEGER,\n",
    "  ano_2010 INTEGER,\n",
    "  ano_2011 INTEGER,\n",
    "  ano_2012 INTEGER,\n",
    "  ano_2013 INTEGER,\n",
    "  ano_2014 INTEGER,\n",
    "  ano_2015 INTEGER,\n",
    "  ano_2016 INTEGER,\n",
    "  ano_2017 INTEGER,\n",
    "  ano_2018 INTEGER,\n",
    "  ano_2019 INTEGER,\n",
    "  ano_2020 INTEGER,\n",
    "  PRIMARY KEY(name),\n",
    "  FOREIGN KEY(name) REFERENCES Jogador(nome),\n",
    ") AS SELECT\n",
    "  name,followers_2019,followers_2021,ano_2010,ano_2011,ano_2012,ano_2013,ano_2014,ano_2015,ano_2016,ano_2017,ano_2018,ano_2019,ano_2020\n",
    "FROM CSVREAD('../data/processed/history.csv');\n"
   ]
  },
  {
   "cell_type": "code",
   "execution_count": 9,
   "id": "03fe77b4",
   "metadata": {},
   "outputs": [
    {
     "data": {
      "application/vnd.jupyter.widget-view+json": {
       "model_id": "181e4322-7cd4-42bf-8b66-5e95d9b2358c",
       "version_major": 2,
       "version_minor": 0
      },
      "method": "display_data"
     },
     "metadata": {},
     "output_type": "display_data"
    }
   ],
   "source": [
    "SELECT * FROM Historico"
   ]
  },
  {
   "cell_type": "markdown",
   "id": "459c7af8",
   "metadata": {},
   "source": [
    "## Quais os jogadores canhotos brasileiros?"
   ]
  },
  {
   "cell_type": "code",
   "execution_count": 10,
   "id": "a10a9f5e",
   "metadata": {},
   "outputs": [
    {
     "data": {
      "application/vnd.jupyter.widget-view+json": {
       "model_id": "09e3878d-4229-4a99-ac9e-74a781aff979",
       "version_major": 2,
       "version_minor": 0
      },
      "method": "display_data"
     },
     "metadata": {},
     "output_type": "display_data"
    }
   ],
   "source": [
    "SELECT nome FROM Jogador\n",
    "WHERE mao_dominante = 'L'\n",
    "AND local = 'BRA'"
   ]
  },
  {
   "cell_type": "code",
   "execution_count": 11,
   "id": "d4f3cc2c",
   "metadata": {},
   "outputs": [
    {
     "data": {
      "application/vnd.jupyter.widget-view+json": {
       "model_id": "8788f17c-289c-4fc3-97ee-6a24879d1a19",
       "version_major": 2,
       "version_minor": 0
      },
      "method": "display_data"
     },
     "metadata": {},
     "output_type": "display_data"
    }
   ],
   "source": [
    "SELECT mao_dominante, COUNT(*) num \n",
    "FROM Jogador  \n",
    "WHERE local = 'BRA'\n",
    "GROUP BY mao_dominante"
   ]
  },
  {
   "cell_type": "markdown",
   "id": "aa1e31fe",
   "metadata": {},
   "source": [
    "## Qual a distribuição do tipo de superfície nos torneios?"
   ]
  },
  {
   "cell_type": "code",
   "execution_count": 12,
   "id": "615b2439",
   "metadata": {},
   "outputs": [
    {
     "data": {
      "application/vnd.jupyter.widget-view+json": {
       "model_id": "b17a965e-0803-4795-aa2e-749107aad98a",
       "version_major": 2,
       "version_minor": 0
      },
      "method": "display_data"
     },
     "metadata": {},
     "output_type": "display_data"
    }
   ],
   "source": [
    "SELECT surface, COUNT(*) num \n",
    "FROM Torneio  \n",
    "GROUP BY surface"
   ]
  },
  {
   "cell_type": "markdown",
   "id": "de1c3322",
   "metadata": {},
   "source": [
    "## Quais são os jogadores mais populares?"
   ]
  },
  {
   "cell_type": "code",
   "execution_count": 13,
   "id": "90dd6440",
   "metadata": {},
   "outputs": [
    {
     "data": {
      "application/vnd.jupyter.widget-view+json": {
       "model_id": "fe32046b-9d80-4476-af74-a97976cd2c76",
       "version_major": 2,
       "version_minor": 0
      },
      "method": "display_data"
     },
     "metadata": {},
     "output_type": "display_data"
    }
   ],
   "source": [
    "SELECT NAME, FOLLOWERS_2021\n",
    "FROM HISTORICO\n",
    "ORDER BY FOLLOWERS_2021 DESC"
   ]
  },
  {
   "cell_type": "markdown",
   "id": "497d7a39",
   "metadata": {},
   "source": [
    "## Quais os campeonatos mais jogados pelos 3 jogadores mais famosos?"
   ]
  },
  {
   "cell_type": "code",
   "execution_count": 14,
   "id": "05e4fdf1",
   "metadata": {},
   "outputs": [],
   "source": [
    "DROP VIEW IF EXISTS TOP3;\n",
    "CREATE VIEW TOP3 AS \n",
    "SELECT * \n",
    "FROM Confronto\n",
    "WHERE winner = 'Nadal R.'\n",
    "OR winner = 'Federer R.'\n",
    "OR winner = 'Djokovic N.'"
   ]
  },
  {
   "cell_type": "code",
   "execution_count": 15,
   "id": "74abac3d",
   "metadata": {},
   "outputs": [
    {
     "data": {
      "application/vnd.jupyter.widget-view+json": {
       "model_id": "5a8ff1cf-dd5a-4884-84a0-4363257972c7",
       "version_major": 2,
       "version_minor": 0
      },
      "method": "display_data"
     },
     "metadata": {},
     "output_type": "display_data"
    }
   ],
   "source": [
    "select * from top3"
   ]
  },
  {
   "cell_type": "code",
   "execution_count": 16,
   "id": "2adfcb83",
   "metadata": {},
   "outputs": [
    {
     "data": {
      "application/vnd.jupyter.widget-view+json": {
       "model_id": "6b3b4500-cd60-4c05-821b-e0ed8c8bc7e7",
       "version_major": 2,
       "version_minor": 0
      },
      "method": "display_data"
     },
     "metadata": {},
     "output_type": "display_data"
    }
   ],
   "source": [
    "SELECT winner, TOP3.tournament, count(*)num \n",
    "FROM TOP3\n",
    "GROUP BY TOP3.tournament, winner\n",
    "ORDER BY num desc"
   ]
  },
  {
   "cell_type": "markdown",
   "id": "7022c779",
   "metadata": {},
   "source": [
    "## Como a altura de um jogador influencia nas vitórias?"
   ]
  },
  {
   "cell_type": "code",
   "execution_count": 17,
   "id": "69398419",
   "metadata": {},
   "outputs": [
    {
     "data": {
      "text/plain": [
       "211"
      ]
     },
     "execution_count": 17,
     "metadata": {},
     "output_type": "execute_result"
    }
   ],
   "source": [
    "SELECT MAX(altura)\n",
    "FROM Jogador"
   ]
  },
  {
   "cell_type": "code",
   "execution_count": 18,
   "id": "9c634843",
   "metadata": {},
   "outputs": [
    {
     "data": {
      "application/vnd.jupyter.widget-view+json": {
       "model_id": "f6103425-ff5d-4bf1-8606-7006234770f9",
       "version_major": 2,
       "version_minor": 0
      },
      "method": "display_data"
     },
     "metadata": {},
     "output_type": "display_data"
    }
   ],
   "source": [
    "SELECT *\n",
    "FROM Jogador\n",
    "WHERE altura = (SELECT MIN(altura) FROM Jogador)\n",
    "OR altura = SELECT MAX(altura) FROM Jogador"
   ]
  },
  {
   "cell_type": "code",
   "execution_count": 19,
   "id": "195ee3bd",
   "metadata": {},
   "outputs": [
    {
     "data": {
      "application/vnd.jupyter.widget-view+json": {
       "model_id": "c5855caf-f4bc-4f51-ae9f-fbe7420a6d60",
       "version_major": 2,
       "version_minor": 0
      },
      "method": "display_data"
     },
     "metadata": {},
     "output_type": "display_data"
    }
   ],
   "source": [
    "SELECT WINNER, COUNT(*) NUM\n",
    "FROM CONFRONTO\n",
    "WHERE WINNER = 'Rochus O.'\n",
    "OR WINNER = 'Opelka R.'\n",
    "GROUP BY WINNER"
   ]
  },
  {
   "cell_type": "code",
   "execution_count": 20,
   "id": "cbf5c164",
   "metadata": {},
   "outputs": [
    {
     "data": {
      "application/vnd.jupyter.widget-view+json": {
       "model_id": "1fdccaef-3c67-4449-982e-4275bbe5f0ad",
       "version_major": 2,
       "version_minor": 0
      },
      "method": "display_data"
     },
     "metadata": {},
     "output_type": "display_data"
    }
   ],
   "source": [
    "SELECT LOSER, COUNT(*) NUM\n",
    "FROM CONFRONTO\n",
    "WHERE LOSER = 'Rochus O.'\n",
    "OR LOSER = 'Opelka R.'\n",
    "GROUP BY LOSER"
   ]
  },
  {
   "cell_type": "markdown",
   "id": "80d5807e",
   "metadata": {},
   "source": [
    "## QUAIS AS MELHORES PERFORMANCES DE JOGADORES EM CADA  ANO NOS ÚLTIMOS 10 ANOS?"
   ]
  },
  {
   "cell_type": "code",
   "execution_count": 21,
   "id": "54524b59",
   "metadata": {
    "scrolled": true
   },
   "outputs": [
    {
     "data": {
      "application/vnd.jupyter.widget-view+json": {
       "model_id": "c65a0c9e-3e45-4e0a-8419-68812358c87c",
       "version_major": 2,
       "version_minor": 0
      },
      "method": "display_data"
     },
     "metadata": {},
     "output_type": "display_data"
    }
   ],
   "source": [
    "SELECT *\n",
    "FROM Historico\n",
    "WHERE ano_2010 =  (SELECT MAX(ano_2010) FROM Historico) OR\n",
    "ano_2011 =  (SELECT MAX(ano_2011) FROM Historico) OR\n",
    "ano_2012 =  (SELECT MAX(ano_2012) FROM Historico) OR\n",
    "ano_2013 =  (SELECT MAX(ano_2013) FROM Historico) OR\n",
    "ano_2014 =  (SELECT MAX(ano_2014) FROM Historico) OR\n",
    "ano_2015 =  (SELECT MAX(ano_2015) FROM Historico) OR\n",
    "ano_2016 =  (SELECT MAX(ano_2016) FROM Historico) OR\n",
    "ano_2017 =  (SELECT MAX(ano_2017) FROM Historico) OR\n",
    "ano_2018 =  (SELECT MAX(ano_2018) FROM Historico) OR\n",
    "ano_2019 =  (SELECT MAX(ano_2019) FROM Historico) OR\n",
    "ano_2020 =  (SELECT MAX(ano_2020) FROM Historico) "
   ]
  },
  {
   "cell_type": "markdown",
   "id": "fb357ac3",
   "metadata": {},
   "source": [
    "## QUANTAS PARTIDAS OS MELHORES JOGADORES DA DÉCADA GANHARAM NO ANO DO SEU AUGE?"
   ]
  },
  {
   "cell_type": "code",
   "execution_count": 22,
   "id": "9f517b34",
   "metadata": {},
   "outputs": [
    {
     "data": {
      "application/vnd.jupyter.widget-view+json": {
       "model_id": "44a3cff4-95b5-483a-92d9-30dba9e3a632",
       "version_major": 2,
       "version_minor": 0
      },
      "method": "display_data"
     },
     "metadata": {},
     "output_type": "display_data"
    }
   ],
   "source": [
    "SELECT WINNER, COUNT(*) Vitórias\n",
    "FROM CONFRONTO, Historico\n",
    "WHERE \n",
    "(winner = name and year =  2013 and ano_2013 = (SELECT MAX(ano_2013) FROM Historico))\n",
    "OR\n",
    "(winner = name and year =  2015 and ano_2015 = (SELECT MAX(ano_2015) FROM Historico))\n",
    "OR\n",
    "(winner = name and year =  2016 and ano_2016 = (SELECT MAX(ano_2016) FROM Historico))\n",
    "GROUP BY WINNER"
   ]
  },
  {
   "cell_type": "markdown",
   "id": "a593f32b",
   "metadata": {},
   "source": [
    "## QUAIS PAÍSES POSSUEM MAIS PONTOS PER CAPITA NO RANKING EM 2019?"
   ]
  },
  {
   "cell_type": "code",
   "execution_count": 23,
   "id": "6b7aabcd",
   "metadata": {},
   "outputs": [],
   "source": [
    "DROP VIEW IF EXISTS Ranking_per_country;\n",
    "CREATE VIEW Ranking_per_country AS\n",
    "SELECT nome, ano_2019, local\n",
    "FROM Jogador, Historico\n",
    "WHERE nome = name"
   ]
  },
  {
   "cell_type": "code",
   "execution_count": 24,
   "id": "07bbe249",
   "metadata": {},
   "outputs": [
    {
     "data": {
      "application/vnd.jupyter.widget-view+json": {
       "model_id": "bc683d51-5b8d-4fe9-845e-d0ebc422b7cc",
       "version_major": 2,
       "version_minor": 0
      },
      "method": "display_data"
     },
     "metadata": {},
     "output_type": "display_data"
    }
   ],
   "source": [
    "SELECT LOCAL, SUM(ANO_2019) total\n",
    "FROM Ranking_per_country\n",
    "GROUP BY LOCAL\n",
    "ORDER BY total desc"
   ]
  },
  {
   "cell_type": "code",
   "execution_count": 25,
   "id": "493c0d4c",
   "metadata": {},
   "outputs": [],
   "source": [
    "DROP VIEW IF EXISTS Ranking_per_capita;\n",
    "CREATE VIEW Ranking_per_capita as\n",
    "SELECT LOCAL, SUM(ANO_2019) total, Count(local) num\n",
    "FROM Ranking_per_country\n",
    "GROUP BY LOCAL\n",
    "ORDER BY total desc"
   ]
  },
  {
   "cell_type": "code",
   "execution_count": 26,
   "id": "b5b8ebc0",
   "metadata": {},
   "outputs": [
    {
     "data": {
      "application/vnd.jupyter.widget-view+json": {
       "model_id": "1fffb901-e0da-4670-99ea-ae4d8feb0878",
       "version_major": 2,
       "version_minor": 0
      },
      "method": "display_data"
     },
     "metadata": {},
     "output_type": "display_data"
    }
   ],
   "source": [
    "SELECT local, total/num as pontos_por_jogador\n",
    "from Ranking_per_capita\n",
    "ORDER BY pontos_por_jogador desc"
   ]
  },
  {
   "cell_type": "markdown",
   "id": "e9bbbac4",
   "metadata": {},
   "source": [
    "## Quais foram os maiores enganadores nas partidas?"
   ]
  },
  {
   "cell_type": "markdown",
   "id": "c6124e2b",
   "metadata": {},
   "source": [
    "### Quem foi subestimado?"
   ]
  },
  {
   "cell_type": "code",
   "execution_count": 42,
   "id": "74fb0224",
   "metadata": {},
   "outputs": [],
   "source": [
    "DROP VIEW IF EXISTS WSUBESTIMADO;\n",
    "CREATE VIEW WSUBESTIMADO AS\n",
    "SELECT winner, AVG(oddwinner) odd_media, Count(winner) vitorias\n",
    "FROM CONFRONTO\n",
    "GROUP BY WINNER\n",
    "ORDER BY odd_media desc"
   ]
  },
  {
   "cell_type": "code",
   "execution_count": 62,
   "id": "022dc938",
   "metadata": {},
   "outputs": [],
   "source": [
    "DROP VIEW IF EXISTS LSUBESTIMADO;\n",
    "CREATE VIEW LSUBESTIMADO AS\n",
    "SELECT loser, AVG(oddloser) odd_media, Count(loser) derrotas\n",
    "FROM CONFRONTO\n",
    "GROUP BY LOSER\n",
    "ORDER BY odd_media desc"
   ]
  },
  {
   "cell_type": "code",
   "execution_count": 63,
   "id": "9b72925e",
   "metadata": {
    "scrolled": true
   },
   "outputs": [
    {
     "data": {
      "application/vnd.jupyter.widget-view+json": {
       "model_id": "239b2730-c625-4897-902a-e9415d51cd2e",
       "version_major": 2,
       "version_minor": 0
      },
      "method": "display_data"
     },
     "metadata": {},
     "output_type": "display_data"
    }
   ],
   "source": [
    "SELECT winner, (wsubestimado.odd_media * (VITORIAS/DERROTAS)) as enganação\n",
    "FROM LSUBESTIMADO, WSUBESTIMADO\n",
    "WHERE WINNER = LOSER\n",
    "ORDER BY ENGANAÇÃO DESC\n",
    "\n"
   ]
  },
  {
   "cell_type": "markdown",
   "id": "c57974c6",
   "metadata": {},
   "source": [
    "### QUEM FOI SUPERESTIMADO?"
   ]
  },
  {
   "cell_type": "code",
   "execution_count": 65,
   "id": "0eab9960",
   "metadata": {},
   "outputs": [
    {
     "data": {
      "application/vnd.jupyter.widget-view+json": {
       "model_id": "1696799f-e371-48fc-9e69-5149186f37e7",
       "version_major": 2,
       "version_minor": 0
      },
      "method": "display_data"
     },
     "metadata": {},
     "output_type": "display_data"
    }
   ],
   "source": [
    "SELECT LOSER, ((DERROTAS/VITORIAS)/lsubestimado.odd_media) as enganação\n",
    "FROM LSUBESTIMADO, WSUBESTIMADO\n",
    "WHERE WINNER = LOSER\n",
    "ORDER BY ENGANAÇÃO DESC\n"
   ]
  }
 ],
 "metadata": {
  "kernelspec": {
   "display_name": "SQL",
   "language": "SQL",
   "name": "sql"
  },
  "language_info": {
   "codemirror_mode": "sql",
   "file_extension": ".sql",
   "mimetype": "",
   "name": "SQL",
   "nbconverter_exporter": "",
   "version": ""
  },
  "toc": {
   "base_numbering": 1,
   "nav_menu": {},
   "number_sections": false,
   "sideBar": false,
   "skip_h1_title": false,
   "title_cell": "Table of Contents",
   "title_sidebar": "Contents",
   "toc_cell": false,
   "toc_position": {},
   "toc_section_display": false,
   "toc_window_display": false
  }
 },
 "nbformat": 4,
 "nbformat_minor": 5
}
